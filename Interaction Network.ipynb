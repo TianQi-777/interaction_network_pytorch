{
 "cells": [
  {
   "cell_type": "code",
   "execution_count": 29,
   "metadata": {
    "collapsed": false
   },
   "outputs": [],
   "source": [
    "import os\n",
    "import random\n",
    "import time\n",
    "\n",
    "import numpy as np\n",
    "\n",
    "import torch\n",
    "import torch.nn as nn\n",
    "import torch.optim as optim\n",
    "import torch.nn.functional as F\n",
    "from torch.autograd import Variable\n",
    "from torch.utils.data import Dataset, DataLoader\n",
    "\n",
    "from Physics_Engine import gen\n",
    "\n",
    "USE_CUDA = True"
   ]
  },
  {
   "cell_type": "code",
   "execution_count": 30,
   "metadata": {
    "collapsed": true
   },
   "outputs": [],
   "source": [
    "from IPython.display import clear_output\n",
    "from tqdm import tqdm\n",
    "import matplotlib.pyplot as plt\n",
    "%matplotlib inline"
   ]
  },
  {
   "cell_type": "markdown",
   "metadata": {},
   "source": [
    "<h3>N body</h3>\n",
    "<p>In the n-body domain,  such as solar systems,  all\n",
    "n\n",
    "bodies exert distance- and mass-dependent\n",
    "gravitational forces on each other, so there were\n",
    "n\n",
    "(\n",
    "n\n",
    "−\n",
    "1)\n",
    "relations input to our model.  Across\n",
    "simulations, the objects’ masses varied, while all other fixed attributes were held consta</p>"
   ]
  },
  {
   "cell_type": "code",
   "execution_count": 31,
   "metadata": {
    "collapsed": true
   },
   "outputs": [],
   "source": [
    "n_objects  = 5 # number of planets(nodes)\n",
    "object_dim = 5 # features: mass, x coordinate, y coordinate, speed on x-axis, speed on y-axis\n",
    "\n",
    "n_relations  = n_objects * (n_objects - 1) # number of edges in fully connected graph\n",
    "relation_dim = 1\n",
    "\n",
    "effect_dim = 100 #effect's vector size"
   ]
  },
  {
   "cell_type": "markdown",
   "metadata": {},
   "source": [
    "Generating dataset of solar system dynamics for 1000 timesteps"
   ]
  },
  {
   "cell_type": "code",
   "execution_count": 32,
   "metadata": {
    "collapsed": false
   },
   "outputs": [],
   "source": [
    "data = gen(n_objects, True)"
   ]
  },
  {
   "cell_type": "code",
   "execution_count": 33,
   "metadata": {
    "collapsed": false
   },
   "outputs": [
    {
     "data": {
      "text/plain": [
       "(1000, 5, 5)"
      ]
     },
     "execution_count": 33,
     "metadata": {},
     "output_type": "execute_result"
    }
   ],
   "source": [
    "data.shape # 1000 timesteps, n_objects, 5 featues - mass, x, y, speed_x, speed_y"
   ]
  },
  {
   "cell_type": "markdown",
   "metadata": {},
   "source": [
    "<h3>Batch</h3>"
   ]
  },
  {
   "cell_type": "code",
   "execution_count": 7,
   "metadata": {
    "collapsed": true
   },
   "outputs": [],
   "source": [
    "def get_batch(data, batch_size):\n",
    "    rand_idx  = [random.randint(0, len(data) - 2) for _ in range(batch_size)]\n",
    "    label_idx = [idx + 1 for idx in rand_idx]\n",
    "    \n",
    "    batch_data = data[rand_idx]\n",
    "    label_data = data[label_idx]\n",
    "    \n",
    "    objects = batch_data[:,:,:5]\n",
    "    \n",
    "    \n",
    "    #receiver_relations, sender_relations - onehot encoding matrices\n",
    "    #each column indicates the receiver and sender object’s index\n",
    "    \n",
    "    receiver_relations = np.zeros((batch_size, n_objects, n_relations), dtype=float);\n",
    "    sender_relations   = np.zeros((batch_size, n_objects, n_relations), dtype=float);\n",
    "    \n",
    "    cnt = 0\n",
    "    for i in range(n_objects):\n",
    "        for j in range(n_objects):\n",
    "            if(i != j):\n",
    "                receiver_relations[:, i, cnt] = 1.0\n",
    "                sender_relations[:, j, cnt]   = 1.0\n",
    "                cnt += 1\n",
    "    \n",
    "    #There is no relation info in solar system task, just fill with zeros\n",
    "    relation_info = np.zeros((batch_size, n_relations, relation_dim))\n",
    "    target = label_data[:,:,3:]\n",
    "    \n",
    "    objects            = Variable(torch.FloatTensor(objects))\n",
    "    sender_relations   = Variable(torch.FloatTensor(sender_relations))\n",
    "    receiver_relations = Variable(torch.FloatTensor(receiver_relations))\n",
    "    relation_info      = Variable(torch.FloatTensor(relation_info))\n",
    "    target             = Variable(torch.FloatTensor(target)).view(-1, 2)\n",
    "                       \n",
    "    if USE_CUDA:\n",
    "        objects            = objects.cuda()\n",
    "        sender_relations   = sender_relations.cuda()\n",
    "        receiver_relations = receiver_relations.cuda()\n",
    "        relation_info      = relation_info.cuda()\n",
    "        target             = target.cuda()\n",
    "    \n",
    "    return objects, sender_relations, receiver_relations, relation_info, target"
   ]
  },
  {
   "cell_type": "markdown",
   "metadata": {},
   "source": [
    "<h3>Relation-centric Nerural Network</h3>\n",
    "<p>This NN takes all information about relations in the graph and outputs effects of all interactions between objects.\n",
    "</p>"
   ]
  },
  {
   "cell_type": "code",
   "execution_count": 8,
   "metadata": {
    "collapsed": true
   },
   "outputs": [],
   "source": [
    "class RelationalModel(nn.Module):\n",
    "    def __init__(self, input_size, output_size, hidden_size):\n",
    "        super(RelationalModel, self).__init__()\n",
    "        \n",
    "        self.output_size = output_size\n",
    "        \n",
    "        self.layers = nn.Sequential(\n",
    "            nn.Linear(input_size, hidden_size),\n",
    "            nn.ReLU(),\n",
    "            nn.Linear(hidden_size, hidden_size),\n",
    "            nn.ReLU(),\n",
    "            nn.Linear(hidden_size, hidden_size),\n",
    "            nn.ReLU(),\n",
    "            nn.Linear(hidden_size, output_size),\n",
    "            nn.ReLU()\n",
    "        )\n",
    "    \n",
    "    def forward(self, x):\n",
    "        '''\n",
    "        Args:\n",
    "            x: [batch_size, n_relations, input_size]\n",
    "        Returns:\n",
    "            [batch_size, n_relations, output_size]\n",
    "        '''\n",
    "        batch_size, n_relations, input_size = x.size()\n",
    "        x = x.view(-1, input_size)\n",
    "        x = self.layers(x)\n",
    "        x = x.view(batch_size, n_relations, self.output_size)\n",
    "        return x"
   ]
  },
  {
   "cell_type": "markdown",
   "metadata": {},
   "source": [
    "<h3>Object-centric Neural Network</h3>\n",
    "<p>This NN takes information about all objects and effects on them, then outputs prediction of the next state of the graph.</p>"
   ]
  },
  {
   "cell_type": "code",
   "execution_count": 9,
   "metadata": {
    "collapsed": true
   },
   "outputs": [],
   "source": [
    "class ObjectModel(nn.Module):\n",
    "    def __init__(self, input_size, hidden_size):\n",
    "        super(ObjectModel, self).__init__()\n",
    "        \n",
    "        self.layers = nn.Sequential(\n",
    "            nn.Linear(input_size, hidden_size),\n",
    "            nn.ReLU(),\n",
    "            nn.Linear(hidden_size, 2), #speedX and speedY\n",
    "        )\n",
    "        \n",
    "    def forward(self, x):\n",
    "        '''\n",
    "        Args:\n",
    "            x: [batch_size, n_objects, input_size]\n",
    "        Returns:\n",
    "            [batch_size * n_objects, 2] speedX and speedY\n",
    "        '''\n",
    "        input_size = x.size(2)\n",
    "        x = x.view(-1, input_size)\n",
    "        return self.layers(x)"
   ]
  },
  {
   "cell_type": "markdown",
   "metadata": {},
   "source": [
    "<h3>Interaction Network</h3>\n",
    "<p>IN involves only matrix operations that do not contain learnable parameters.</p>"
   ]
  },
  {
   "cell_type": "code",
   "execution_count": 10,
   "metadata": {
    "collapsed": true
   },
   "outputs": [],
   "source": [
    "class InteractionNetwork(nn.Module):\n",
    "    def __init__(self, n_objects, object_dim, n_relations, relation_dim, effect_dim):\n",
    "        super(InteractionNetwork, self).__init__()\n",
    "        \n",
    "        self.relational_model = RelationalModel(2*object_dim + relation_dim, effect_dim, 150)\n",
    "        self.object_model     = ObjectModel(object_dim + effect_dim, 100)\n",
    "    \n",
    "    def forward(self, objects, sender_relations, receiver_relations, relation_info):\n",
    "        senders   = sender_relations.permute(0, 2, 1).bmm(objects)\n",
    "        receivers = receiver_relations.permute(0, 2, 1).bmm(objects)\n",
    "        effects = self.relational_model(torch.cat([senders, receivers, relation_info], 2))\n",
    "        effect_receivers = receiver_relations.bmm(effects)\n",
    "        predicted = self.object_model(torch.cat([objects, effect_receivers], 2))\n",
    "        return predicted"
   ]
  },
  {
   "cell_type": "code",
   "execution_count": 22,
   "metadata": {
    "collapsed": false
   },
   "outputs": [],
   "source": [
    "interaction_network = InteractionNetwork(n_objects, object_dim, n_relations, relation_dim, effect_dim)\n",
    "\n",
    "if USE_CUDA:\n",
    "    interaction_network = interaction_network.cuda()\n",
    "    \n",
    "optimizer = optim.Adam(interaction_network.parameters())\n",
    "criterion = nn.MSELoss()"
   ]
  },
  {
   "cell_type": "markdown",
   "metadata": {},
   "source": [
    "<h3>Training</h3>"
   ]
  },
  {
   "cell_type": "code",
   "execution_count": 23,
   "metadata": {
    "collapsed": false
   },
   "outputs": [
    {
     "data": {
      "image/png": "[encoded data removed]",
      "text/plain": [
       "<matplotlib.figure.Figure at 0x7f5adc618e90>"
      ]
     },
     "metadata": {},
     "output_type": "display_data"
    }
   ],
   "source": [
    "n_epoch = 100\n",
    "batches_per_epoch = 100\n",
    "\n",
    "losses = []\n",
    "for epoch in range(n_epoch):\n",
    "    for _ in range(batches_per_epoch):\n",
    "        objects, sender_relations, receiver_relations, relation_info, target = get_batch(data, 30)\n",
    "        predicted = interaction_network(objects, sender_relations, receiver_relations, relation_info)\n",
    "        loss = criterion(predicted, target)\n",
    "        optimizer.zero_grad()\n",
    "        loss.backward()\n",
    "        optimizer.step()\n",
    "        losses.append(np.sqrt(loss.data[0]))\n",
    "        \n",
    "    clear_output(True)\n",
    "    plt.figure(figsize=(20,5))\n",
    "    plt.subplot(131)\n",
    "    plt.title('Epoch %s RMS Error %s' % (epoch, np.sqrt(np.mean(losses[-100:]))))\n",
    "    plt.plot(losses)\n",
    "    plt.show()"
   ]
  },
  {
   "cell_type": "markdown",
   "metadata": {},
   "source": [
    "<h3>Also</h3>\n",
    "<p>Use function make_video from PhysicsEngine.py to record dynamics</p>\n",
    "<h3>Further reading:</h3>\n",
    "<p><a href=\"https://arxiv.org/abs/1706.01433\"> Visual Interaction Networks</a>\n",
    "<br>\n",
    "<a href=\"https://arxiv.org/abs/1704.01212\">Neural Message Passing for Quantum Chemistry</a></p>"
   ]
  }
 ],
 "metadata": {
  "kernelspec": {
   "display_name": "Python 2",
   "language": "python",
   "name": "python2"
  },
  "language_info": {
   "codemirror_mode": {
    "name": "ipython",
    "version": 2
   },
   "file_extension": ".py",
   "mimetype": "text/x-python",
   "name": "python",
   "nbconvert_exporter": "python",
   "pygments_lexer": "ipython2",
   "version": "2.7.13"
  }
 },
 "nbformat": 4,
 "nbformat_minor": 2
}
